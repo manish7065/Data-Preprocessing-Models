{
  "nbformat": 4,
  "nbformat_minor": 0,
  "metadata": {
    "colab": {
      "name": "Python-The Big Picture.ipynb",
      "provenance": [],
      "collapsed_sections": []
    },
    "kernelspec": {
      "name": "python3",
      "display_name": "Python 3"
    }
  },
  "cells": [
    {
      "cell_type": "code",
      "metadata": {
        "id": "tcz2cFmtVX09",
        "colab": {
          "base_uri": "https://localhost:8080/",
          "height": 685
        },
        "outputId": "4794d795-006e-4884-c206-e8384cfc72fa"
      },
      "source": [
        "!apt-get update\r\n",
        "!apt-get install openjdk-8-jdk-headless -qq > /dev/null\r\n",
        "!wget -q htt  https://archive.apache.org/dist/spark/spark-2.3.1/spark-2.3.1-bin-hadoop2.7.tgz\r\n",
        "!tar xf spark-2.3.1-bin-hadoop2.7.tgz\r\n",
        "!pip install -q findspark\r\n",
        "\r\n",
        "import os\r\n",
        "os.environ[\"JAVA_HOME\"] = \"/usr/lib/jvm/java-8-openjdk-amd64\"\r\n",
        "os.environ[\"SPARK_HOME\"] = \"/content/spark-2.3.1-bin-hadoop2.7\"\r\n",
        "\r\n",
        "import findspark\r\n",
        "findspark.init()\r\n",
        "from pyspark.sql import SparkSession\r\n",
        "spark = SparkSession.builder.getOrCreate()\r\n",
        "spark"
      ],
      "execution_count": 1,
      "outputs": [
        {
          "output_type": "stream",
          "text": [
            "\r0% [Working]\r            \rGet:1 https://cloud.r-project.org/bin/linux/ubuntu bionic-cran40/ InRelease [3,626 B]\n",
            "\r0% [Waiting for headers] [Waiting for headers] [1 InRelease 0 B/3,626 B 0%] [Wa\r0% [Waiting for headers] [Waiting for headers] [Waiting for headers] [Waiting f\r                                                                               \rGet:2 http://security.ubuntu.com/ubuntu bionic-security InRelease [88.7 kB]\n",
            "\r                                                                               \rIgn:3 https://developer.download.nvidia.com/compute/cuda/repos/ubuntu1804/x86_64  InRelease\n",
            "\r0% [Waiting for headers] [2 InRelease 14.2 kB/88.7 kB 16%] [Waiting for headers\r0% [1 InRelease gpgv 3,626 B] [Waiting for headers] [2 InRelease 14.2 kB/88.7 k\r                                                                               \rHit:4 http://archive.ubuntu.com/ubuntu bionic InRelease\n",
            "\r                                                                               \rGet:5 http://ppa.launchpad.net/c2d4u.team/c2d4u4.0+/ubuntu bionic InRelease [15.9 kB]\n",
            "\r0% [1 InRelease gpgv 3,626 B] [Waiting for headers] [2 InRelease 43.1 kB/88.7 k\r0% [1 InRelease gpgv 3,626 B] [Waiting for headers] [5 InRelease 14.2 kB/15.9 k\r                                                                               \rIgn:6 https://developer.download.nvidia.com/compute/machine-learning/repos/ubuntu1804/x86_64  InRelease\n",
            "Hit:7 https://developer.download.nvidia.com/compute/cuda/repos/ubuntu1804/x86_64  Release\n",
            "Get:8 https://developer.download.nvidia.com/compute/machine-learning/repos/ubuntu1804/x86_64  Release [564 B]\n",
            "Get:9 https://developer.download.nvidia.com/compute/machine-learning/repos/ubuntu1804/x86_64  Release.gpg [833 B]\n",
            "Get:10 http://archive.ubuntu.com/ubuntu bionic-updates InRelease [88.7 kB]\n",
            "Hit:11 http://ppa.launchpad.net/cran/libgit2/ubuntu bionic InRelease\n",
            "Get:12 https://cloud.r-project.org/bin/linux/ubuntu bionic-cran40/ Packages [43.6 kB]\n",
            "Get:13 http://archive.ubuntu.com/ubuntu bionic-backports InRelease [74.6 kB]\n",
            "Get:14 http://ppa.launchpad.net/graphics-drivers/ppa/ubuntu bionic InRelease [21.3 kB]\n",
            "Get:15 http://security.ubuntu.com/ubuntu bionic-security/main amd64 Packages [1,881 kB]\n",
            "Get:16 http://security.ubuntu.com/ubuntu bionic-security/restricted amd64 Packages [284 kB]\n",
            "Get:17 http://security.ubuntu.com/ubuntu bionic-security/universe amd64 Packages [1,376 kB]\n",
            "Get:19 https://developer.download.nvidia.com/compute/machine-learning/repos/ubuntu1804/x86_64  Packages [66.5 kB]\n",
            "Get:20 http://ppa.launchpad.net/c2d4u.team/c2d4u4.0+/ubuntu bionic/main Sources [1,708 kB]\n",
            "Get:21 http://archive.ubuntu.com/ubuntu bionic-updates/main amd64 Packages [2,307 kB]\n",
            "Get:22 http://ppa.launchpad.net/c2d4u.team/c2d4u4.0+/ubuntu bionic/main amd64 Packages [875 kB]\n",
            "Get:23 http://archive.ubuntu.com/ubuntu bionic-updates/restricted amd64 Packages [309 kB]\n",
            "Get:24 http://archive.ubuntu.com/ubuntu bionic-updates/multiverse amd64 Packages [45.6 kB]\n",
            "Get:25 http://archive.ubuntu.com/ubuntu bionic-updates/universe amd64 Packages [2,140 kB]\n",
            "Get:26 http://ppa.launchpad.net/graphics-drivers/ppa/ubuntu bionic/main amd64 Packages [49.2 kB]\n",
            "Fetched 11.4 MB in 4s (3,221 kB/s)\n",
            "Reading package lists... Done\n"
          ],
          "name": "stdout"
        },
        {
          "output_type": "execute_result",
          "data": {
            "text/html": [
              "\n",
              "            <div>\n",
              "                <p><b>SparkSession - in-memory</b></p>\n",
              "                \n",
              "        <div>\n",
              "            <p><b>SparkContext</b></p>\n",
              "\n",
              "            <p><a href=\"http://b1d0abccbed0:4040\">Spark UI</a></p>\n",
              "\n",
              "            <dl>\n",
              "              <dt>Version</dt>\n",
              "                <dd><code>v2.3.1</code></dd>\n",
              "              <dt>Master</dt>\n",
              "                <dd><code>local[*]</code></dd>\n",
              "              <dt>AppName</dt>\n",
              "                <dd><code>pyspark-shell</code></dd>\n",
              "            </dl>\n",
              "        </div>\n",
              "        \n",
              "            </div>\n",
              "        "
            ],
            "text/plain": [
              "<pyspark.sql.session.SparkSession at 0x7fbf5a9b2c50>"
            ]
          },
          "metadata": {
            "tags": []
          },
          "execution_count": 1
        }
      ]
    },
    {
      "cell_type": "code",
      "metadata": {
        "colab": {
          "base_uri": "https://localhost:8080/"
        },
        "id": "-fcDs6gCogqV",
        "outputId": "3a0c45ff-3a9c-4bae-edc0-417b663c8f88"
      },
      "source": [
        "df=spark.read.format(\"csv\").option(\"header\",\"true\").option(\"inferschema\",\"true\").load(\"/content/sales_info.csv\");\r\n",
        "df.show()"
      ],
      "execution_count": 34,
      "outputs": [
        {
          "output_type": "stream",
          "text": [
            "+-------+-------+-----+\n",
            "|Company| Person|Sales|\n",
            "+-------+-------+-----+\n",
            "|   GOOG|    Sam|  200|\n",
            "|   GOOG|Charlie|  120|\n",
            "|   GOOG|  Frank|  340|\n",
            "|   MSFT|   Tina|  600|\n",
            "|   MSFT|    Amy|  124|\n",
            "|   MSFT|Vanessa|  243|\n",
            "|     FB|   Carl|  870|\n",
            "|     FB|  Sarah|  350|\n",
            "|   APPL|   John|  250|\n",
            "|   APPL|  Linda|  130|\n",
            "|   APPL|   Mike|  750|\n",
            "|   APPL|  Chris|  350|\n",
            "|    TCS|   Chao| null|\n",
            "+-------+-------+-----+\n",
            "\n"
          ],
          "name": "stdout"
        }
      ]
    },
    {
      "cell_type": "code",
      "metadata": {
        "id": "zirgJ7q5pc9D"
      },
      "source": [
        "from pyspark.sql.functions import *"
      ],
      "execution_count": 35,
      "outputs": []
    },
    {
      "cell_type": "code",
      "metadata": {
        "colab": {
          "base_uri": "https://localhost:8080/"
        },
        "id": "DJrS-hRdovJl",
        "outputId": "2a990f1b-2ea1-435c-963c-202083105dee"
      },
      "source": [
        "df.withColumn('Company',lower(df['Company'])).show()"
      ],
      "execution_count": 36,
      "outputs": [
        {
          "output_type": "stream",
          "text": [
            "+-------+-------+-----+\n",
            "|Company| Person|Sales|\n",
            "+-------+-------+-----+\n",
            "|   goog|    Sam|  200|\n",
            "|   goog|Charlie|  120|\n",
            "|   goog|  Frank|  340|\n",
            "|   msft|   Tina|  600|\n",
            "|   msft|    Amy|  124|\n",
            "|   msft|Vanessa|  243|\n",
            "|     fb|   Carl|  870|\n",
            "|     fb|  Sarah|  350|\n",
            "|   appl|   John|  250|\n",
            "|   appl|  Linda|  130|\n",
            "|   appl|   Mike|  750|\n",
            "|   appl|  Chris|  350|\n",
            "|    tcs|   Chao| null|\n",
            "+-------+-------+-----+\n",
            "\n"
          ],
          "name": "stdout"
        }
      ]
    },
    {
      "cell_type": "code",
      "metadata": {
        "colab": {
          "base_uri": "https://localhost:8080/"
        },
        "id": "tDAW9eTKpbVI",
        "outputId": "3d1e3a87-ca83-498e-887c-caba461b60df"
      },
      "source": [
        "df.withColumn('Person',upper(df['Person'])).show()"
      ],
      "execution_count": 37,
      "outputs": [
        {
          "output_type": "stream",
          "text": [
            "+-------+-------+-----+\n",
            "|Company| Person|Sales|\n",
            "+-------+-------+-----+\n",
            "|   GOOG|    SAM|  200|\n",
            "|   GOOG|CHARLIE|  120|\n",
            "|   GOOG|  FRANK|  340|\n",
            "|   MSFT|   TINA|  600|\n",
            "|   MSFT|    AMY|  124|\n",
            "|   MSFT|VANESSA|  243|\n",
            "|     FB|   CARL|  870|\n",
            "|     FB|  SARAH|  350|\n",
            "|   APPL|   JOHN|  250|\n",
            "|   APPL|  LINDA|  130|\n",
            "|   APPL|   MIKE|  750|\n",
            "|   APPL|  CHRIS|  350|\n",
            "|    TCS|   CHAO| null|\n",
            "+-------+-------+-----+\n",
            "\n"
          ],
          "name": "stdout"
        }
      ]
    },
    {
      "cell_type": "code",
      "metadata": {
        "colab": {
          "base_uri": "https://localhost:8080/"
        },
        "id": "LSyGD9w1p0q3",
        "outputId": "134896da-2c47-4d26-e12d-fefcd0db5bb4"
      },
      "source": [
        "df.select(\r\n",
        "ltrim(lit(\" HELLO \")).alias(\"ltrim\"),\r\n",
        "rtrim(lit(\" HELLO \")).alias(\"rtrim\"),\r\n",
        "trim(lit(\" HELLO \")).alias(\"trim\"),\r\n",
        "lpad(lit(\"HELLO\"), 3, \" \").alias(\"lp\"),\r\n",
        "lpad(lit(\"HELLO\"), 10, \"_\").alias(\"lp\"),\r\n",
        "rpad(lit(\"HELLO\"), 10, \" \").alias(\"rp\"),\r\n",
        "rpad(lit(\"HELLO\"), 3, \" \").alias(\"rp\")).show(2)"
      ],
      "execution_count": 39,
      "outputs": [
        {
          "output_type": "stream",
          "text": [
            "+------+------+-----+---+----------+----------+---+\n",
            "| ltrim| rtrim| trim| lp|        lp|        rp| rp|\n",
            "+------+------+-----+---+----------+----------+---+\n",
            "|HELLO | HELLO|HELLO|HEL|_____HELLO|HELLO     |HEL|\n",
            "|HELLO | HELLO|HELLO|HEL|_____HELLO|HELLO     |HEL|\n",
            "+------+------+-----+---+----------+----------+---+\n",
            "only showing top 2 rows\n",
            "\n"
          ],
          "name": "stdout"
        }
      ]
    },
    {
      "cell_type": "code",
      "metadata": {
        "colab": {
          "base_uri": "https://localhost:8080/"
        },
        "id": "AcqlshONqFbr",
        "outputId": "fcb3758a-343c-45a5-fd3c-c79b0fd8c7a8"
      },
      "source": [
        "df.filter(df['Company'].contains(\"G\")).select(df.columns).show()"
      ],
      "execution_count": 28,
      "outputs": [
        {
          "output_type": "stream",
          "text": [
            "+-------+-------+-----+\n",
            "|Company| Person|Sales|\n",
            "+-------+-------+-----+\n",
            "|   GOOG|    Sam|  200|\n",
            "|   GOOG|Charlie|  120|\n",
            "|   GOOG|  Frank|  340|\n",
            "+-------+-------+-----+\n",
            "\n"
          ],
          "name": "stdout"
        }
      ]
    },
    {
      "cell_type": "code",
      "metadata": {
        "colab": {
          "base_uri": "https://localhost:8080/"
        },
        "id": "fn4JoG-zq5Nf",
        "outputId": "11adae93-a025-45da-f500-5dc1c115d547"
      },
      "source": [
        "df=df.withColumn('Person',lower(df['Person']));\r\n",
        "df.show()"
      ],
      "execution_count": 30,
      "outputs": [
        {
          "output_type": "stream",
          "text": [
            "+-------+-------+-----+\n",
            "|Company| Person|Sales|\n",
            "+-------+-------+-----+\n",
            "|   GOOG|    sam|  200|\n",
            "|   GOOG|charlie|  120|\n",
            "|   GOOG|  frank|  340|\n",
            "|   MSFT|   tina|  600|\n",
            "|   MSFT|    amy|  124|\n",
            "|   MSFT|vanessa|  243|\n",
            "|     FB|   carl|  870|\n",
            "|     FB|  sarah|  350|\n",
            "|   APPL|   john|  250|\n",
            "|   APPL|  linda|  130|\n",
            "|   APPL|   mike|  750|\n",
            "|   APPL|  chris|  350|\n",
            "|    TCS|   chao| null|\n",
            "+-------+-------+-----+\n",
            "\n"
          ],
          "name": "stdout"
        }
      ]
    },
    {
      "cell_type": "code",
      "metadata": {
        "colab": {
          "base_uri": "https://localhost:8080/"
        },
        "id": "jqXgQK-krx_6",
        "outputId": "cef2e672-3852-425b-972e-8852367d754e"
      },
      "source": [
        "df.withColumn('Person',initcap(df['Person'])).show()"
      ],
      "execution_count": 31,
      "outputs": [
        {
          "output_type": "stream",
          "text": [
            "+-------+-------+-----+\n",
            "|Company| Person|Sales|\n",
            "+-------+-------+-----+\n",
            "|   GOOG|    Sam|  200|\n",
            "|   GOOG|Charlie|  120|\n",
            "|   GOOG|  Frank|  340|\n",
            "|   MSFT|   Tina|  600|\n",
            "|   MSFT|    Amy|  124|\n",
            "|   MSFT|Vanessa|  243|\n",
            "|     FB|   Carl|  870|\n",
            "|     FB|  Sarah|  350|\n",
            "|   APPL|   John|  250|\n",
            "|   APPL|  Linda|  130|\n",
            "|   APPL|   Mike|  750|\n",
            "|   APPL|  Chris|  350|\n",
            "|    TCS|   Chao| null|\n",
            "+-------+-------+-----+\n",
            "\n"
          ],
          "name": "stdout"
        }
      ]
    }
  ]
}
