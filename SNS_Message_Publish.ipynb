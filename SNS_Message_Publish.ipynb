{
  "nbformat": 4,
  "nbformat_minor": 0,
  "metadata": {
    "colab": {
      "name": "SNS Message Publish.ipynb",
      "provenance": [],
      "authorship_tag": "ABX9TyMQXNzei1cXERatoSYN2Tth",
      "include_colab_link": true
    },
    "kernelspec": {
      "name": "python3",
      "display_name": "Python 3"
    },
    "language_info": {
      "name": "python"
    }
  },
  "cells": [
    {
      "cell_type": "markdown",
      "metadata": {
        "id": "view-in-github",
        "colab_type": "text"
      },
      "source": [
        "<a href=\"https://colab.research.google.com/github/SatadruMukherjee/Data-Preprocessing-Models/blob/main/SNS_Message_Publish.ipynb\" target=\"_parent\"><img src=\"https://colab.research.google.com/assets/colab-badge.svg\" alt=\"Open In Colab\"/></a>"
      ]
    },
    {
      "cell_type": "code",
      "source": [
        "!pip install boto3"
      ],
      "metadata": {
        "id": "6cKOYN27ysNV"
      },
      "execution_count": null,
      "outputs": []
    },
    {
      "cell_type": "code",
      "source": [
        "import json\n",
        "import boto3\n",
        "access_key=\"\"\n",
        "secret_key=\"\"\n",
        "client = boto3.client('sns',aws_access_key_id=access_key,\n",
        "aws_secret_access_key=secret_key, region_name='')"
      ],
      "metadata": {
        "id": "uoqibyJQyxCM"
      },
      "execution_count": 11,
      "outputs": []
    },
    {
      "cell_type": "code",
      "execution_count": 23,
      "metadata": {
        "id": "4J0MyeFAyo1b"
      },
      "outputs": [],
      "source": [
        "def message_publish(arn,message,destination):\n",
        "  response = client.publish(\n",
        "      TargetArn=arn,\n",
        "      Message=json.dumps({'default': json.dumps(message)}),\n",
        "      MessageStructure='json',\n",
        "      MessageAttributes={\n",
        "                          'Destination': {\n",
        "                              'DataType': 'String',\n",
        "                              'StringValue': destination\n",
        "                          }\n",
        "                      }\n",
        "  )\n",
        "  return response"
      ]
    },
    {
      "cell_type": "code",
      "source": [
        "arn=\"\"\n",
        "message=\"\"\n",
        "destination=\"\"\n",
        "response=message_publish(arn,message,destination)"
      ],
      "metadata": {
        "id": "b4lyRnEozTAA"
      },
      "execution_count": 24,
      "outputs": []
    },
    {
      "cell_type": "code",
      "source": [
        "response"
      ],
      "metadata": {
        "id": "rORBL0jk0_gK"
      },
      "execution_count": null,
      "outputs": []
    },
    {
      "cell_type": "code",
      "source": [
        ""
      ],
      "metadata": {
        "id": "-0iW4CGZ_ogN"
      },
      "execution_count": null,
      "outputs": []
    }
  ]
}